{
 "cells": [
  {
   "cell_type": "markdown",
   "metadata": {},
   "source": [
    "### Based on https://developer.hashicorp.com/vault/tutorials/kubernetes/kubernetes-minikube-tls"
   ]
  },
  {
   "cell_type": "code",
   "execution_count": 1,
   "metadata": {},
   "outputs": [
    {
     "name": "stdout",
     "output_type": "stream",
     "text": [
      "Logged into \"https://api.crc.testing:6443\" as \"kubeadmin\" using existing credentials.\n",
      "\n",
      "You have access to 66 projects, the list has been suppressed. You can list all projects with 'oc projects'\n",
      "\n",
      "Using project \"default\".\n"
     ]
    }
   ],
   "source": [
    "%%bash\n",
    "eval $(crc oc-env)\n",
    "oc login -u kubeadmin https://api.crc.testing:6443"
   ]
  },
  {
   "cell_type": "code",
   "execution_count": 2,
   "metadata": {},
   "outputs": [
    {
     "name": "stdout",
     "output_type": "stream",
     "text": [
      "\"hashicorp\" already exists with the same configuration, skipping\n",
      "Hang tight while we grab the latest from your chart repositories...\n",
      "...Successfully got an update from the \"secrets-store-csi-driver\" chart repository\n",
      "...Successfully got an update from the \"hashicorp\" chart repository\n",
      "...Successfully got an update from the \"datadog\" chart repository\n",
      "...Successfully got an update from the \"jetstack\" chart repository\n",
      "...Successfully got an update from the \"bitnami\" chart repository\n",
      "Update Complete. ⎈Happy Helming!⎈\n"
     ]
    }
   ],
   "source": [
    "%%bash\n",
    "helm repo add hashicorp https://helm.releases.hashicorp.com\n",
    "helm repo update"
   ]
  },
  {
   "cell_type": "code",
   "execution_count": 3,
   "metadata": {},
   "outputs": [],
   "source": [
    "%%bash\n",
    "rm -rf /tmp/vault\n",
    "mkdir /tmp/vault"
   ]
  },
  {
   "attachments": {},
   "cell_type": "markdown",
   "metadata": {},
   "source": [
    "### OpenShift CA in CRC does not work. For that reason, I'm creating a CSR and signing it with an external CA"
   ]
  },
  {
   "cell_type": "code",
   "execution_count": null,
   "metadata": {},
   "outputs": [],
   "source": [
    "%%bash\n",
    "export VAULT_K8S_NAMESPACE=\"vault\" \\\n",
    "export VAULT_HELM_RELEASE_NAME=\"vault\" \\\n",
    "export VAULT_SERVICE_NAME=\"vault-internal\" \\\n",
    "export K8S_CLUSTER_NAME=\"cluster.local\" \\\n",
    "export WORKDIR=/tmp/vault\n",
    "\n",
    "# Create KEY\n",
    "openssl genrsa -out ${WORKDIR}/vault.key 2048\n",
    "# Create CSR\n",
    "cat > ${WORKDIR}/vault-csr.conf <<EOF\n",
    "[req]\n",
    "default_bits = 2048\n",
    "prompt = no\n",
    "encrypt_key = yes\n",
    "default_md = sha256\n",
    "distinguished_name = kubelet_serving\n",
    "req_extensions = v3_req\n",
    "[ kubelet_serving ]\n",
    "O = system:nodes\n",
    "CN = system:node:*.${VAULT_HELM_RELEASE_NAME}.svc.${K8S_CLUSTER_NAME}\n",
    "[ v3_req ]\n",
    "basicConstraints = CA:FALSE\n",
    "keyUsage = nonRepudiation, digitalSignature, keyEncipherment, dataEncipherment\n",
    "extendedKeyUsage = serverAuth, clientAuth\n",
    "subjectAltName = @alt_names\n",
    "[alt_names]\n",
    "DNS.1 = *.${VAULT_SERVICE_NAME}\n",
    "DNS.2 = *.${VAULT_SERVICE_NAME}.${VAULT_HELM_RELEASE_NAME}.svc.${K8S_CLUSTER_NAME}\n",
    "DNS.3 = *.${VAULT_HELM_RELEASE_NAME}\n",
    "DNS.4 = *.${VAULT_HELM_RELEASE_NAME}.svc.${K8S_CLUSTER_NAME}\n",
    "IP.1 = 127.0.0.1\n",
    "EOF\n",
    "\n",
    "openssl req -new -key ${WORKDIR}/vault.key -out ${WORKDIR}/vault.csr -config ${WORKDIR}/vault-csr.conf\n"
   ]
  },
  {
   "cell_type": "markdown",
   "metadata": {},
   "source": [
    "openssl ca -config openssl_local.cfg -cert cacert.pem -keyfile private/cakey.pem -in /tmp/vault/vault.csr -out certs/server.pem -md sha256"
   ]
  },
  {
   "cell_type": "code",
   "execution_count": 10,
   "metadata": {},
   "outputs": [
    {
     "name": "stdout",
     "output_type": "stream",
     "text": [
      "env: WORKDIR=/tmp/vault\n",
      "env: VAULT_K8S_NAMESPACE=vault\n",
      "env: VAULT_HELM_RELEASE_NAME=vault\n",
      "env: VAULT_SERVICE_NAME=vault-internal\n",
      "env: K8S_CLUSTER_NAME=cluster.local\n"
     ]
    }
   ],
   "source": [
    "%env WORKDIR=/tmp/vault\n",
    "%env VAULT_K8S_NAMESPACE=vault\n",
    "%env VAULT_HELM_RELEASE_NAME=vault\n",
    "%env VAULT_SERVICE_NAME=vault-internal \n",
    "%env K8S_CLUSTER_NAME=cluster.local "
   ]
  },
  {
   "cell_type": "code",
   "execution_count": 109,
   "metadata": {},
   "outputs": [
    {
     "name": "stdout",
     "output_type": "stream",
     "text": [
      "secret/vault-tls created\n"
     ]
    }
   ],
   "source": [
    "%%bash\n",
    "kubectl create secret generic vault-tls \\\n",
    "   -n $VAULT_K8S_NAMESPACE \\\n",
    "   --from-file=vault.key=${WORKDIR}/vault.key \\\n",
    "   --from-file=vault.crt=/Users/jose/Demo/OC-test/demoCA/certs/server.pem \\\n",
    "   --from-file=vault.ca=/Users/jose/Demo/OC-test/demoCA/cacert.pem"
   ]
  },
  {
   "cell_type": "markdown",
   "metadata": {},
   "source": [
    "### Adding enterprise license based on https://developer.hashicorp.com/vault/docs/platform/k8s/helm/enterprise"
   ]
  },
  {
   "cell_type": "code",
   "execution_count": 12,
   "metadata": {},
   "outputs": [
    {
     "name": "stdout",
     "output_type": "stream",
     "text": [
      "secret/vault-ent-license created\n"
     ]
    }
   ],
   "source": [
    "%%bash \n",
    "# Path to \n",
    "secret=$(cat /Users/jose/Demo/Vault_ADP/ADP_PlayGround/vault.hclic)\n",
    "kubectl create secret generic vault-ent-license --from-literal=\"license=${secret}\" -n $VAULT_K8S_NAMESPACE\n"
   ]
  },
  {
   "cell_type": "code",
   "execution_count": 133,
   "metadata": {},
   "outputs": [],
   "source": [
    "%%bash\n",
    "### TLS signed by an external CA\n",
    "cat > ${WORKDIR}/overrides.yaml <<EOF\n",
    "global:\n",
    "   enabled: true\n",
    "   tlsDisable: false # Disabling TLS to avoid issues when connecting to Vault via port forwarding\n",
    "   openshift: true\n",
    "injector:\n",
    "   enabled: true\n",
    "   #repository: registry.connect.redhat.com/hashicorp/vault-k8s\n",
    "   # Testing on Mac M1 so moving to arm image\n",
    "   image:\n",
    "      repository: docker.io/hashicorp/vault-k8s\n",
    "      #repository: registry.connect.redhat.com/hashicorp/vault-k8s\n",
    "      # Testing on Mac M1 so moving to arm image\n",
    "   agentImage:\n",
    "      repository: docker.io/hashicorp/vault\n",
    "      #repository: registry.connect.redhat.com/hashicorp/vault\n",
    "      # Testing on Mac M1 so moving to arm image\n",
    "\n",
    "# Supported log levels include: trace, debug, info, warn, error\n",
    "logLevel: \"trace\" # Set to trace for initial troubleshooting, info for normal operation\n",
    "server:\n",
    "# config.yaml\n",
    "   image:\n",
    "      #repository: registry.connect.redhat.com/hashicorp/vault-enterprise\n",
    "      #tag: 1.12.5-ent-ubi\n",
    "      # Testing on Mac M1 so moving to arm image\n",
    "      repository: docker.io/hashicorp/vault-enterprise\n",
    "      tag: 1.13.1-ent\n",
    "   enterpriseLicense:\n",
    "      secretName: vault-ent-license\n",
    "   extraEnvironmentVars:\n",
    "      VAULT_CACERT: /vault/userconfig/vault-tls/vault.ca\n",
    "      VAULT_TLSCERT: /vault/userconfig/vault-tls/vault.crt\n",
    "      VAULT_TLSKEY: /vault/userconfig/vault-tls/vault.key\n",
    "   volumes:\n",
    "      - name: userconfig-vault-tls\n",
    "        secret:\n",
    "         defaultMode: 420\n",
    "         secretName: vault-tls\n",
    "   volumeMounts:\n",
    "      - mountPath: /vault/userconfig/vault-tls\n",
    "        name: userconfig-vault-tls\n",
    "        readOnly: true\n",
    "   standalone:\n",
    "      enabled: false\n",
    "   affinity: \"\"    # Affinity rules removed since I have a single node\n",
    "   logLevel: \"trace\"\n",
    "   ha:\n",
    "      enabled: true\n",
    "      replicas: 3 # we are going to install 3 nodes\n",
    "      raft:\n",
    "         enabled: true\n",
    "         setNodeId: true\n",
    "         config: |\n",
    "            ui = true\n",
    "            api_addr = \"https://POD_IP:8200\"\n",
    "            listener \"tcp\" {\n",
    "               tls_disable = 0\n",
    "               address = \"[::]:8200\"\n",
    "               cluster_address = \"[::]:8201\"\n",
    "               tls_cert_file = \"/vault/userconfig/vault-tls/vault.crt\"\n",
    "               tls_key_file  = \"/vault/userconfig/vault-tls/vault.key\"\n",
    "               tls_client_ca_file = \"/vault/userconfig/vault-tls/vault.ca\"\n",
    "            }\n",
    "            \n",
    "            storage \"raft\" {\n",
    "               path = \"/vault/data\"\n",
    "            \n",
    "               retry_join {\n",
    "                  auto_join             = \"provider=k8s namespace=vault label_selector=\\\"component=server,app.kubernetes.io/name=vault\\\"\"\n",
    "                  auto_join_scheme      = \"https\"\n",
    "                  leader_ca_cert_file   = \"/vault/userconfig/vault-tls/vault.ca\"\n",
    "                  leader_tls_servername = \"vault-0.vault-internal\" #Tiene que matchear una SAN del certificado\n",
    "               }\n",
    "            \n",
    "            }\n",
    "\n",
    "            # See https://developer.hashicorp.com/vault/tutorials/auto-unseal/autounseal-azure-keyvault\n",
    "            # seal \"azurekeyvault\" {\n",
    "            #    client_id      = \"YOUR-APP-ID\"\n",
    "            #    client_secret  = \"YOUR-APP-PASSWORD\"\n",
    "            #    tenant_id      = \"YOUR-AZURE-TENANT-ID\"\n",
    "            #    vault_name     = \"Test-vault-XXXXXX\"\n",
    "            #    key_name       = \"generated-key\"\n",
    "            # }\n",
    "\n",
    "            disable_mlock = true\n",
    "            service_registration \"kubernetes\" {}\n",
    "EOF\n"
   ]
  },
  {
   "cell_type": "code",
   "execution_count": 134,
   "metadata": {},
   "outputs": [
    {
     "name": "stderr",
     "output_type": "stream",
     "text": [
      "W0330 19:40:37.036254   25633 warnings.go:70] would violate PodSecurity \"restricted:v1.24\": allowPrivilegeEscalation != false (container \"sidecar-injector\" must set securityContext.allowPrivilegeEscalation=false), unrestricted capabilities (container \"sidecar-injector\" must set securityContext.capabilities.drop=[\"ALL\"]), runAsNonRoot != true (pod or container \"sidecar-injector\" must set securityContext.runAsNonRoot=true), seccompProfile (pod or container \"sidecar-injector\" must set securityContext.seccompProfile.type to \"RuntimeDefault\" or \"Localhost\")\n",
      "W0330 19:40:37.123373   25633 warnings.go:70] would violate PodSecurity \"restricted:v1.24\": allowPrivilegeEscalation != false (container \"vault\" must set securityContext.allowPrivilegeEscalation=false), unrestricted capabilities (container \"vault\" must set securityContext.capabilities.drop=[\"ALL\"]), runAsNonRoot != true (pod or container \"vault\" must set securityContext.runAsNonRoot=true), seccompProfile (pod or container \"vault\" must set securityContext.seccompProfile.type to \"RuntimeDefault\" or \"Localhost\")\n"
     ]
    },
    {
     "name": "stdout",
     "output_type": "stream",
     "text": [
      "NAME: vault\n",
      "LAST DEPLOYED: Thu Mar 30 19:40:36 2023\n",
      "NAMESPACE: vault\n",
      "STATUS: deployed\n",
      "REVISION: 1\n",
      "NOTES:\n",
      "Thank you for installing HashiCorp Vault!\n",
      "\n",
      "Now that you have deployed Vault, you should look over the docs on using\n",
      "Vault with Kubernetes available here:\n",
      "\n",
      "https://www.vaultproject.io/docs/\n",
      "\n",
      "\n",
      "Your release is named vault. To learn more about the release, try:\n",
      "\n",
      "  $ helm status vault\n",
      "  $ helm get manifest vault\n"
     ]
    }
   ],
   "source": [
    "%%bash\n",
    "helm install -n $VAULT_K8S_NAMESPACE $VAULT_HELM_RELEASE_NAME hashicorp/vault -f ${WORKDIR}/overrides.yaml"
   ]
  },
  {
   "cell_type": "code",
   "execution_count": 137,
   "metadata": {},
   "outputs": [
    {
     "name": "stdout",
     "output_type": "stream",
     "text": [
      "NAME                                    READY   STATUS    RESTARTS   AGE\n",
      "vault-0                                 0/1     Running   0          6s\n",
      "vault-1                                 0/1     Running   0          6s\n",
      "vault-2                                 0/1     Running   0          6s\n",
      "vault-agent-injector-6cdd674474-7j9t6   0/1     Running   0          6s\n"
     ]
    }
   ],
   "source": [
    "%%bash\n",
    "oc -n $VAULT_K8S_NAMESPACE get pods"
   ]
  },
  {
   "cell_type": "markdown",
   "metadata": {},
   "source": [
    "## Initialize Vault"
   ]
  },
  {
   "cell_type": "code",
   "execution_count": 138,
   "metadata": {},
   "outputs": [],
   "source": [
    "%%bash\n",
    "kubectl exec -n $VAULT_K8S_NAMESPACE vault-0 -- vault operator init \\\n",
    "    -key-shares=1 \\\n",
    "    -key-threshold=1 \\\n",
    "    -format=json > ${WORKDIR}/cluster-keys.json\n"
   ]
  },
  {
   "cell_type": "code",
   "execution_count": 139,
   "metadata": {},
   "outputs": [
    {
     "name": "stdout",
     "output_type": "stream",
     "text": [
      "Y17M52JV7/wYsJqJI1mhaZ924Vx4HR/9re8QFBQSwkQ=\n"
     ]
    }
   ],
   "source": [
    "%%bash\n",
    "jq -r \".unseal_keys_b64[]\" ${WORKDIR}/cluster-keys.json\n",
    "VAULT_UNSEAL_KEY=$(jq -r \".unseal_keys_b64[]\" ${WORKDIR}/cluster-keys.json)"
   ]
  },
  {
   "cell_type": "code",
   "execution_count": 140,
   "metadata": {},
   "outputs": [
    {
     "name": "stdout",
     "output_type": "stream",
     "text": [
      "Key                     Value\n",
      "---                     -----\n",
      "Seal Type               shamir\n",
      "Initialized             true\n",
      "Sealed                  false\n",
      "Total Shares            1\n",
      "Threshold               1\n",
      "Version                 1.13.1+ent\n",
      "Build Date              2023-03-23T20:09:57Z\n",
      "Storage Type            raft\n",
      "Cluster Name            vault-cluster-f7ed5cc3\n",
      "Cluster ID              dc10cd4b-86e1-e93d-8b10-6fc287f0560e\n",
      "HA Enabled              true\n",
      "HA Cluster              n/a\n",
      "HA Mode                 standby\n",
      "Active Node Address     <none>\n",
      "Raft Committed Index    65\n",
      "Raft Applied Index      63\n"
     ]
    }
   ],
   "source": [
    "%%bash\n",
    "kubectl exec -n $VAULT_K8S_NAMESPACE vault-0 -- vault operator unseal $(jq -r \".unseal_keys_b64[]\" ${WORKDIR}/cluster-keys.json)"
   ]
  },
  {
   "cell_type": "code",
   "execution_count": 141,
   "metadata": {},
   "outputs": [
    {
     "name": "stderr",
     "output_type": "stream",
     "text": [
      "Unable to use a TTY - input is not a terminal or the right kind of file\n"
     ]
    },
    {
     "name": "stdout",
     "output_type": "stream",
     "text": [
      "Key                Value\n",
      "---                -----\n",
      "Seal Type          shamir\n",
      "Initialized        true\n",
      "Sealed             true\n",
      "Total Shares       1\n",
      "Threshold          1\n",
      "Unseal Progress    0/1\n",
      "Unseal Nonce       n/a\n",
      "Version            1.13.1+ent\n",
      "Build Date         2023-03-23T20:09:57Z\n",
      "Storage Type       raft\n",
      "HA Enabled         true\n"
     ]
    }
   ],
   "source": [
    "%%bash\n",
    "kubectl exec -n $VAULT_K8S_NAMESPACE -ti vault-1 -- vault operator unseal $(jq -r \".unseal_keys_b64[]\" ${WORKDIR}/cluster-keys.json)"
   ]
  },
  {
   "cell_type": "code",
   "execution_count": 142,
   "metadata": {},
   "outputs": [
    {
     "name": "stderr",
     "output_type": "stream",
     "text": [
      "Unable to use a TTY - input is not a terminal or the right kind of file\n"
     ]
    },
    {
     "name": "stdout",
     "output_type": "stream",
     "text": [
      "Key                Value\n",
      "---                -----\n",
      "Seal Type          shamir\n",
      "Initialized        true\n",
      "Sealed             true\n",
      "Total Shares       1\n",
      "Threshold          1\n",
      "Unseal Progress    0/1\n",
      "Unseal Nonce       n/a\n",
      "Version            1.13.1+ent\n",
      "Build Date         2023-03-23T20:09:57Z\n",
      "Storage Type       raft\n",
      "HA Enabled         true\n"
     ]
    }
   ],
   "source": [
    "%%bash\n",
    "kubectl exec -n $VAULT_K8S_NAMESPACE -ti vault-2 -- vault operator unseal $(jq -r \".unseal_keys_b64[]\" ${WORKDIR}/cluster-keys.json)"
   ]
  },
  {
   "cell_type": "code",
   "execution_count": 143,
   "metadata": {},
   "outputs": [
    {
     "name": "stderr",
     "output_type": "stream",
     "text": [
      "Unable to use a TTY - input is not a terminal or the right kind of file\n"
     ]
    },
    {
     "name": "stdout",
     "output_type": "stream",
     "text": [
      "Key                     Value\n",
      "---                     -----\n",
      "Seal Type               shamir\n",
      "Initialized             true\n",
      "Sealed                  false\n",
      "Total Shares            1\n",
      "Threshold               1\n",
      "Version                 1.13.1+ent\n",
      "Build Date              2023-03-23T20:09:57Z\n",
      "Storage Type            raft\n",
      "Cluster Name            vault-cluster-f7ed5cc3\n",
      "Cluster ID              dc10cd4b-86e1-e93d-8b10-6fc287f0560e\n",
      "HA Enabled              true\n",
      "HA Cluster              https://vault-0.vault-internal:8201\n",
      "HA Mode                 active\n",
      "Active Since            2023-03-30T17:41:03.766854116Z\n",
      "Raft Committed Index    96\n",
      "Raft Applied Index      96\n",
      "Last WAL                31\n"
     ]
    }
   ],
   "source": [
    "%%bash\n",
    "kubectl exec -n $VAULT_K8S_NAMESPACE -ti vault-0 -- vault status"
   ]
  },
  {
   "cell_type": "code",
   "execution_count": 144,
   "metadata": {},
   "outputs": [
    {
     "name": "stderr",
     "output_type": "stream",
     "text": [
      "Unable to use a TTY - input is not a terminal or the right kind of file\n"
     ]
    },
    {
     "name": "stdout",
     "output_type": "stream",
     "text": [
      "Source: /vault/license/license (path from the VAULT_LICENSE_PATH environment variable)\n",
      "Product: vault\n",
      "License ID: 152295e1-3784-2641-bd01-bfdbc0a37c35\n",
      "Customer ID: d9a6d7e8-e947-ea92-ec07-82c6901283c1\n",
      "Installation ID: *\n",
      "Issue Time: 2022-12-19 08:50:24.624461496 +0000 UTC\n",
      "Start Time: 2022-12-19 00:00:00 +0000 UTC\n",
      "Expiration Time: 2023-12-19 23:59:59.999 +0000 UTC\n",
      "Termination Time: 2023-12-19 23:59:59.999 +0000 UTC\n",
      "{\"license_id\":\"152295e1-3784-2641-bd01-bfdbc0a37c35\",\"customer_id\":\"d9a6d7e8-e947-ea92-ec07-82c6901283c1\",\"installation_id\":\"*\",\"issue_time\":\"2022-12-19T08:50:24.624461496Z\",\"start_time\":\"2022-12-19T00:00:00Z\",\"expiration_time\":\"2023-12-19T23:59:59.999Z\",\"termination_time\":\"2023-12-19T23:59:59.999Z\",\"flags\":{\"modules\":[\"multi-dc-scale\",\"governance-policy\",\"advanced-data-protection-transform\",\"advanced-data-protection-key-management\"]},\"features\":[\"HSM\",\"Performance Replication\",\"DR Replication\",\"MFA\",\"Sentinel\",\"Seal Wrapping\",\"Control Groups\",\"Performance Standby\",\"Namespaces\",\"KMIP\",\"Entropy Augmentation\",\"Transform Secrets Engine\",\"Lease Count Quotas\",\"Key Management Secrets Engine\",\"Automated Snapshots\",\"Key Management Transparent Data Encryption\"],\"performance_standby_count\":9999}\n",
      "\n",
      "License is valid\n"
     ]
    }
   ],
   "source": [
    "%%bash\n",
    "kubectl exec -n $VAULT_K8S_NAMESPACE -ti vault-0 --  vault license inspect\n"
   ]
  },
  {
   "cell_type": "code",
   "execution_count": 145,
   "metadata": {},
   "outputs": [
    {
     "name": "stderr",
     "output_type": "stream",
     "text": [
      "Unable to use a TTY - input is not a terminal or the right kind of file\n"
     ]
    },
    {
     "name": "stdout",
     "output_type": "stream",
     "text": [
      "Key                                    Value\n",
      "---                                    -----\n",
      "Seal Type                              shamir\n",
      "Initialized                            true\n",
      "Sealed                                 false\n",
      "Total Shares                           1\n",
      "Threshold                              1\n",
      "Version                                1.13.1+ent\n",
      "Build Date                             2023-03-23T20:09:57Z\n",
      "Storage Type                           raft\n",
      "Cluster Name                           vault-cluster-f7ed5cc3\n",
      "Cluster ID                             dc10cd4b-86e1-e93d-8b10-6fc287f0560e\n",
      "HA Enabled                             true\n",
      "HA Cluster                             https://vault-0.vault-internal:8201\n",
      "HA Mode                                standby\n",
      "Active Node Address                    https://10.217.1.92:8200\n",
      "Performance Standby Node               true\n",
      "Performance Standby Last Remote WAL    0\n",
      "Raft Committed Index                   103\n",
      "Raft Applied Index                     103\n"
     ]
    }
   ],
   "source": [
    "%%bash\n",
    "kubectl exec -n $VAULT_K8S_NAMESPACE -ti vault-1 -- vault status"
   ]
  },
  {
   "cell_type": "code",
   "execution_count": 146,
   "metadata": {},
   "outputs": [
    {
     "name": "stderr",
     "output_type": "stream",
     "text": [
      "Unable to use a TTY - input is not a terminal or the right kind of file\n"
     ]
    },
    {
     "name": "stdout",
     "output_type": "stream",
     "text": [
      "Source: /vault/license/license (path from the VAULT_LICENSE_PATH environment variable)\n",
      "Product: vault\n",
      "License ID: 152295e1-3784-2641-bd01-bfdbc0a37c35\n",
      "Customer ID: d9a6d7e8-e947-ea92-ec07-82c6901283c1\n",
      "Installation ID: *\n",
      "Issue Time: 2022-12-19 08:50:24.624461496 +0000 UTC\n",
      "Start Time: 2022-12-19 00:00:00 +0000 UTC\n",
      "Expiration Time: 2023-12-19 23:59:59.999 +0000 UTC\n",
      "Termination Time: 2023-12-19 23:59:59.999 +0000 UTC\n",
      "{\"license_id\":\"152295e1-3784-2641-bd01-bfdbc0a37c35\",\"customer_id\":\"d9a6d7e8-e947-ea92-ec07-82c6901283c1\",\"installation_id\":\"*\",\"issue_time\":\"2022-12-19T08:50:24.624461496Z\",\"start_time\":\"2022-12-19T00:00:00Z\",\"expiration_time\":\"2023-12-19T23:59:59.999Z\",\"termination_time\":\"2023-12-19T23:59:59.999Z\",\"flags\":{\"modules\":[\"multi-dc-scale\",\"governance-policy\",\"advanced-data-protection-transform\",\"advanced-data-protection-key-management\"]},\"features\":[\"HSM\",\"Performance Replication\",\"DR Replication\",\"MFA\",\"Sentinel\",\"Seal Wrapping\",\"Control Groups\",\"Performance Standby\",\"Namespaces\",\"KMIP\",\"Entropy Augmentation\",\"Transform Secrets Engine\",\"Lease Count Quotas\",\"Key Management Secrets Engine\",\"Automated Snapshots\",\"Key Management Transparent Data Encryption\"],\"performance_standby_count\":9999}\n",
      "\n",
      "License is valid\n"
     ]
    }
   ],
   "source": [
    "%%bash\n",
    "kubectl exec -n $VAULT_K8S_NAMESPACE -ti vault-1 --  vault license inspect"
   ]
  },
  {
   "cell_type": "code",
   "execution_count": 147,
   "metadata": {},
   "outputs": [
    {
     "name": "stderr",
     "output_type": "stream",
     "text": [
      "Unable to use a TTY - input is not a terminal or the right kind of file\n"
     ]
    },
    {
     "name": "stdout",
     "output_type": "stream",
     "text": [
      "Key                                    Value\n",
      "---                                    -----\n",
      "Seal Type                              shamir\n",
      "Initialized                            true\n",
      "Sealed                                 false\n",
      "Total Shares                           1\n",
      "Threshold                              1\n",
      "Version                                1.13.1+ent\n",
      "Build Date                             2023-03-23T20:09:57Z\n",
      "Storage Type                           raft\n",
      "Cluster Name                           vault-cluster-f7ed5cc3\n",
      "Cluster ID                             dc10cd4b-86e1-e93d-8b10-6fc287f0560e\n",
      "HA Enabled                             true\n",
      "HA Cluster                             https://vault-0.vault-internal:8201\n",
      "HA Mode                                standby\n",
      "Active Node Address                    https://10.217.1.92:8200\n",
      "Performance Standby Node               true\n",
      "Performance Standby Last Remote WAL    0\n",
      "Raft Committed Index                   108\n",
      "Raft Applied Index                     108\n"
     ]
    }
   ],
   "source": [
    "%%bash\n",
    "kubectl exec -n $VAULT_K8S_NAMESPACE -ti vault-2 -- vault status"
   ]
  },
  {
   "cell_type": "code",
   "execution_count": 148,
   "metadata": {},
   "outputs": [
    {
     "name": "stderr",
     "output_type": "stream",
     "text": [
      "Unable to use a TTY - input is not a terminal or the right kind of file\n"
     ]
    },
    {
     "name": "stdout",
     "output_type": "stream",
     "text": [
      "Source: /vault/license/license (path from the VAULT_LICENSE_PATH environment variable)\n",
      "Product: vault\n",
      "License ID: 152295e1-3784-2641-bd01-bfdbc0a37c35\n",
      "Customer ID: d9a6d7e8-e947-ea92-ec07-82c6901283c1\n",
      "Installation ID: *\n",
      "Issue Time: 2022-12-19 08:50:24.624461496 +0000 UTC\n",
      "Start Time: 2022-12-19 00:00:00 +0000 UTC\n",
      "Expiration Time: 2023-12-19 23:59:59.999 +0000 UTC\n",
      "Termination Time: 2023-12-19 23:59:59.999 +0000 UTC\n",
      "{\"license_id\":\"152295e1-3784-2641-bd01-bfdbc0a37c35\",\"customer_id\":\"d9a6d7e8-e947-ea92-ec07-82c6901283c1\",\"installation_id\":\"*\",\"issue_time\":\"2022-12-19T08:50:24.624461496Z\",\"start_time\":\"2022-12-19T00:00:00Z\",\"expiration_time\":\"2023-12-19T23:59:59.999Z\",\"termination_time\":\"2023-12-19T23:59:59.999Z\",\"flags\":{\"modules\":[\"multi-dc-scale\",\"governance-policy\",\"advanced-data-protection-transform\",\"advanced-data-protection-key-management\"]},\"features\":[\"HSM\",\"Performance Replication\",\"DR Replication\",\"MFA\",\"Sentinel\",\"Seal Wrapping\",\"Control Groups\",\"Performance Standby\",\"Namespaces\",\"KMIP\",\"Entropy Augmentation\",\"Transform Secrets Engine\",\"Lease Count Quotas\",\"Key Management Secrets Engine\",\"Automated Snapshots\",\"Key Management Transparent Data Encryption\"],\"performance_standby_count\":9999}\n",
      "\n",
      "License is valid\n"
     ]
    }
   ],
   "source": [
    "%%bash\n",
    "kubectl exec -n $VAULT_K8S_NAMESPACE -ti vault-2 --  vault license inspect"
   ]
  },
  {
   "attachments": {},
   "cell_type": "markdown",
   "metadata": {},
   "source": [
    "## Get Root Token"
   ]
  },
  {
   "cell_type": "code",
   "execution_count": 149,
   "metadata": {},
   "outputs": [
    {
     "name": "stdout",
     "output_type": "stream",
     "text": [
      "hvs.wqeNTydheKyHWe3N9OrPeOjD\n"
     ]
    }
   ],
   "source": [
    "%%bash\n",
    "cat ${WORKDIR}/cluster-keys.json | jq -r \".root_token\""
   ]
  },
  {
   "cell_type": "raw",
   "metadata": {},
   "source": [
    "%%bash\n",
    "#kubectl -n $VAULT_K8S_NAMESPACE get service vault\n",
    "kubectl -n vault port-forward service/vault 8200:8200"
   ]
  }
 ],
 "metadata": {
  "kernelspec": {
   "display_name": "Python 3 (ipykernel)",
   "language": "python",
   "name": "python3"
  },
  "language_info": {
   "codemirror_mode": {
    "name": "ipython",
    "version": 3
   },
   "file_extension": ".py",
   "mimetype": "text/x-python",
   "name": "python",
   "nbconvert_exporter": "python",
   "pygments_lexer": "ipython3",
   "version": "3.9.6"
  },
  "vscode": {
   "interpreter": {
    "hash": "31f2aee4e71d21fbe5cf8b01ff0e069b9275f58929596ceb00d14d90e3e16cd6"
   }
  }
 },
 "nbformat": 4,
 "nbformat_minor": 2
}
